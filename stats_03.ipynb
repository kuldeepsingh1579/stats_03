{
 "cells": [
  {
   "cell_type": "raw",
   "id": "1badad29-771c-4ee0-9fdb-b53dcb80f769",
   "metadata": {},
   "source": [
    "Question-No.1"
   ]
  },
  {
   "cell_type": "raw",
   "id": "e8bb0a4e-4ff9-49e8-a8fc-ad0dde5f3955",
   "metadata": {},
   "source": [
    "Probability Mass Function (PMF):\n",
    "\n",
    "-> PMF is used for discrete random variables, which are random variables that can only take on specific,distinct    values (usually integers).\n",
    "-> It assigns a probability to each possible value that the discrete random variable can take.\n",
    "-> The sum of all the probabilities in the PMF must equal 1, as the random variable must take on one of the      possible values.\n",
    "\n",
    "Example:\n",
    "Let's consider the roll of a fair six-sided die. The possible outcomes are the integers from 1 to 6. The PMF for this die is as follows:\n",
    "\n",
    "PMF(X = x) = 1/6 for x = 1, 2, 3, 4, 5, 6\n",
    "\n",
    "Probability Density Function (PDF):\n",
    "\n",
    "-> PDF is used for continuous random variables, which can take on a continuum of values within a given range.\n",
    "-> Unlike the PMF, the PDF doesn't assign probabilities to specific values but rather gives the probability        density at different points along the range.\n",
    "-> The area under the PDF curve over a specific interval represents the probability of the random variable          falling within that interval.\n",
    "Example:  height of adult males in a population."
   ]
  },
  {
   "cell_type": "raw",
   "id": "9b466852-09f0-4bd7-a3ce-db7c215cdc2a",
   "metadata": {},
   "source": [
    "Question-No.2"
   ]
  },
  {
   "cell_type": "raw",
   "id": "792bb1a0-76ed-42d8-b418-52d5208d97ef",
   "metadata": {},
   "source": [
    "The Cumulative Density Function (CDF), often denoted as F(x), is a fundamental concept in probability and statistics. It is used to describe the cumulative probability distribution of a random variable, both for discrete and continuous random variables. The CDF gives you the probability that a random variable takes on a value less than or equal to a specific value x.\n",
    "Mathematically, for a random variable X, the CDF is denoted as F(x) and is defined as:\n",
    "\n",
    "F(x) = P(X ≤ x)\n",
    "\n",
    "Example: Consider the roll of a fair six-sided die. The random variable X represents the outcome of the roll. The CDF for X would look like this:\n",
    "\n",
    "P(X ≤ 1) = 1/6 (the probability of getting 1 or less)\n",
    "P(X ≤ 2) = 2/6 = 1/3 (the probability of getting 2 or less)\n",
    "P(X ≤ 3) = 3/6 = 1/2 (the probability of getting 3 or less)\n",
    "P(X ≤ 4) = 4/6 = 2/3 (the probability of getting 4 or less)\n",
    "P(X ≤ 5) = 5/6 (the probability of getting 5 or less)\n",
    "P(X ≤ 6) = 6/6 = 1 (the probability of getting 6 or less)\n",
    "\n",
    "we use CDF due to following regions-\n",
    "1- Calculating Probabilities\n",
    "2- Quantile Calculation\n",
    "3- Understanding and Distribution"
   ]
  },
  {
   "cell_type": "raw",
   "id": "34cbc170-caca-460a-9dbd-4b48117c4240",
   "metadata": {},
   "source": [
    "Question-No.3"
   ]
  },
  {
   "cell_type": "raw",
   "id": "54c9bf6e-affa-4570-958b-12af27f4c62e",
   "metadata": {},
   "source": [
    "The normal distribution, also known as the Gaussian distribution or the bell curve, is a widely used probability distribution in statistics and data analysis. It is characterized by its symmetric, bell-shaped curve.\n",
    "Here are some examples of situations where the normal distribution might be used as a model:-\n",
    "1- Height of Individuals\n",
    "2- IQ Scores\n",
    "3- Measurement Errors\n",
    "4- Test scores\n",
    "5- Stock Market Returns\n",
    "\n",
    "These are the  parameters of the normal distribution relate to the shape of the distribution:\n",
    "\n",
    "1- Mean (μ): The mean is the central value of the distribution and represents the average or expected value of the data. It determines the location of the peak (the highest point) of the bell curve. Shifting the mean to the right or left will move the entire distribution along the horizontal axis.\n",
    "\n",
    "2- Standard Deviation (σ): The standard deviation measures the spread or dispersion of the data. A smaller standard deviation results in a narrower, taller curve, while a larger standard deviation leads to a wider, flatter curve.\n",
    "\n",
    "3- Variance (σ^2): Variance is the square of the standard deviation and quantifies the amount of variability in the data. A higher variance indicates greater data dispersion, leading to a wider distribution."
   ]
  },
  {
   "cell_type": "raw",
   "id": "92609472-36c6-4c54-b770-2a5a66ed48f9",
   "metadata": {},
   "source": [
    "Question-No.4"
   ]
  },
  {
   "cell_type": "raw",
   "id": "85d6cdfd-c500-4efc-a589-66e3ded17c5a",
   "metadata": {},
   "source": [
    "The normal distribution is of great importance in statistics and data analysis due to several key reasons:-\n",
    "1- Common Occurrence\n",
    "2- Central Limit Theorem\n",
    "3- Simplicity\n",
    "4- Statistical Inference\n",
    "5- Prediction and Modeling"
   ]
  },
  {
   "cell_type": "raw",
   "id": "c9199e3c-256b-45bb-8666-22c8ca6ea23f",
   "metadata": {},
   "source": [
    "Question-No.5"
   ]
  },
  {
   "cell_type": "raw",
   "id": "3841a056-0ff0-40be-ac8e-8a10a3b286a4",
   "metadata": {},
   "source": [
    "The Bernoulli distribution is a probability distribution that models a random experiment with two possible outcomes: success (usually denoted as 1) and failure (usually denoted as 0).\n",
    "The probability mass function (PMF) for the Bernoulli distribution is defined as follows:\n",
    "\n",
    "P(X = 1) = p (probability of success)\n",
    "P(X = 0) = 1 - p (probability of failure)\n",
    "\n",
    "Here, X is the random variable that follows a Bernoulli distribution.\n",
    "Example:\n",
    "Consider a simple experiment of flipping a fair coin. Let's define success (1) as getting a heads and failure (0) as getting a tails. If the coin is fair, then the probability of success (getting heads) is p = 0.5, and the probability of failure (getting tails) is 1 - p = 0.5.\n",
    "\n",
    "the difference in between bernoulli distribution and binomial distribution is that  , the Bernoulli distribution is used to describe the outcome of a single trial, while the Binomial distribution describes the number of successes (or failures) in a fixed number of trials."
   ]
  },
  {
   "cell_type": "markdown",
   "id": "3e61af08-ef25-4080-b54e-c30417a099ad",
   "metadata": {},
   "source": [
    "Question-No.6"
   ]
  },
  {
   "cell_type": "raw",
   "id": "60b328e0-0a66-4c61-a99a-cc1cffec6434",
   "metadata": {},
   "source": [
    "Given :- mean (μ) = 50 , deviation (σ) = 10\n",
    "to calculate the probability which is greater then 60 we use standard normal distribution (z-score) formula\n",
    "The formula for calculating the z-score is:\n",
    "  z = X-μ/σ\n",
    "Where:\n",
    "X is the value we want to find the probability for (in this case, 60).\n",
    "μ is the mean of the dataset (given as 50).\n",
    "σ is the standard deviation of the dataset (given as 10).\n",
    "putting these values in the z-score formula i.e:\n",
    "    z = 60 - 50 /10\n",
    "so, z = 1\n",
    "now,Using a standard normal distribution table we check the value of probability for z = 1 which is eqal to approximately 0.1587.\n",
    "So, the probability that a randomly selected observation will be greater than 60 is approximately 0.1587, or 15.87%."
   ]
  },
  {
   "cell_type": "raw",
   "id": "3a8ada7e-2782-4335-bf0d-424b813d366c",
   "metadata": {},
   "source": [
    "Question-No.7"
   ]
  },
  {
   "cell_type": "raw",
   "id": "c2575743-ba0e-4ac8-9e9b-fec676b42b70",
   "metadata": {},
   "source": [
    "The uniform distribution, also known as the rectangular distribution, is a probability distribution that models a random variable where all possible values are equally likely to occur within a specified interval. \n",
    "The probability density function (PDF) of a continuous uniform distribution is defined as follows:-\n",
    "f(x) = 1 / b-a \n",
    "where :\n",
    "f(x) is the probability density function.\n",
    "a is the lower bound of the interval.\n",
    "b is the upper bound of the interval.\n",
    "Example: \n",
    "Consider rolling a fair six-sided die, where each face has an equal probability of 1/6 of showing up. The random variable X represents the outcome of the roll.\n",
    "\n",
    "in this case X= {1,2,3,4,5,6} these all outcomes are eqally likelly occurs, So The interval for this uniform distribution is [1,6] , Hence\n",
    "The probability density function for this uniform distribution is\n",
    "  f(x) = 1/6-1\n",
    "       = 1/5"
   ]
  },
  {
   "cell_type": "raw",
   "id": "00f66c06-76f9-4ade-a473-db1c9eeb7209",
   "metadata": {},
   "source": [
    "Question-No.8"
   ]
  },
  {
   "cell_type": "raw",
   "id": "13546619-84a9-40f2-9ecd-b5ae38bb4a67",
   "metadata": {},
   "source": [
    "The z-score, also known as the standard score or standardized score, is a measure of how many standard deviations a particular data point is from the mean (average) of a dataset. It is a way to standardize or normalize data so that we can compare values from different datasets, even if they have different units or scales.\n",
    "The formula to calculate the z-score for a data point x in a dataset with mean μ and standard deviation σ is:\n",
    "\n",
    "z = x - μ/σ\n",
    "Where:\n",
    "z is the z-score.\n",
    "x is the individual data point.\n",
    "μ is the mean (average) of the dataset.\n",
    "σ is the standard deviation of the dataset."
   ]
  },
  {
   "cell_type": "raw",
   "id": "74742016-ff99-43b9-9a97-644ac845b589",
   "metadata": {},
   "source": [
    "Question-No.10"
   ]
  },
  {
   "cell_type": "raw",
   "id": "6bbcfc61-e4c3-44fd-b90f-af9dcab2908c",
   "metadata": {},
   "source": [
    "The Central Limit Theorem (CLT) is a fundamental concept in statistics that describes the behavior of the sample means (or sums) of a sufficiently large number of independent, identically distributed random variables, regardless of the original distribution of those variables. In essence, the CLT states that the sampling distribution of the sample mean will tend to follow a normal distribution, even if the population distribution from which the samples are drawn is not normal.\n",
    "\n",
    "Significance of the Central Limit Theorem:\n",
    "\n",
    "1- Widespread Applicability: \n",
    "2- Statistical Inference: \n",
    "3- Sampling Large Populations: \n",
    "4- Quality Control: \n",
    "Scientific Research: "
   ]
  }
 ],
 "metadata": {
  "kernelspec": {
   "display_name": "Python 3 (ipykernel)",
   "language": "python",
   "name": "python3"
  },
  "language_info": {
   "codemirror_mode": {
    "name": "ipython",
    "version": 3
   },
   "file_extension": ".py",
   "mimetype": "text/x-python",
   "name": "python",
   "nbconvert_exporter": "python",
   "pygments_lexer": "ipython3",
   "version": "3.10.8"
  }
 },
 "nbformat": 4,
 "nbformat_minor": 5
}
